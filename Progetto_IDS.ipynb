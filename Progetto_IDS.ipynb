{
  "nbformat": 4,
  "nbformat_minor": 0,
  "metadata": {
    "colab": {
      "provenance": []
    },
    "kernelspec": {
      "name": "python3",
      "display_name": "Python 3"
    },
    "language_info": {
      "name": "python"
    }
  },
  "cells": [
    {
      "cell_type": "code",
      "execution_count": 26,
      "metadata": {
        "id": "X2LIVmKeQR0x"
      },
      "outputs": [],
      "source": [
        "import pandas as pd \n",
        "import matplotlib.pyplot as plt \n",
        "import numpy as np\n",
        "import scipy.stats as stats\n",
        "import sklearn\n",
        "from sklearn.linear_model import LogisticRegression"
      ]
    },
    {
      "cell_type": "code",
      "source": [
        "netflix_titles_1 = pd.read_csv(\"netflix_titles_1.csv\")\n",
        "netflix_titles_2 = pd.read_csv(\"netflix_titles_2.csv\")\n",
        "amazon_titles_1 = pd.read_csv(\"amazon_titles_1.csv\")\n",
        "amazon_titles_2 = pd.read_csv(\"amazon_titles_2.csv\")"
      ],
      "metadata": {
        "id": "4BT7eTNTRY4s"
      },
      "execution_count": 27,
      "outputs": []
    },
    {
      "cell_type": "code",
      "source": [
        "#netflix_titles_1.head()\n",
        "#netflix_titles_2.head()\n",
        "#amazon_titles_1.head()\n",
        "#amazon_titles_2.head()"
      ],
      "metadata": {
        "id": "j_5IbKT8RhpM"
      },
      "execution_count": 28,
      "outputs": []
    },
    {
      "cell_type": "code",
      "source": [
        "#netflix_titles_1.info()\n",
        "#netflix_titles_2.info()\n",
        "#amazon_titles_1.info()\n",
        "#amazon_titles_2.info()"
      ],
      "metadata": {
        "id": "-x_k4O9iRhhq"
      },
      "execution_count": 29,
      "outputs": []
    },
    {
      "cell_type": "markdown",
      "source": [
        "<h2>1. Integrazione</h1>"
      ],
      "metadata": {
        "id": "-axMG0cFS43M"
      }
    },
    {
      "cell_type": "markdown",
      "source": [
        "Creo due tabelle combinate, una per piattaforma, sull'attributo 'title'.\n",
        "Non si è osservata alcuna differenza (in quantità di righe risultanti) nel caso in cui il join venisse effettuato sulla chiave ['title', 'release_year']."
      ],
      "metadata": {
        "id": "EDllKIVAz-Og"
      }
    },
    {
      "cell_type": "code",
      "source": [
        "# Creazione tabelle combinate \n",
        "netflix_titles_combinata = pd.merge(netflix_titles_1,netflix_titles_2[['title', 'date_added', 'country']], on='title', how='left') # join sul titolo perchè gli id sono diversi\n",
        "#netflix_titles_combinata.info()\n",
        "\n",
        "amazon_titles_combinata = pd.merge(amazon_titles_1,amazon_titles_2[['title', 'date_added', 'country']], on='title', how='left')\n",
        "#amazon_titles_combinata.info()"
      ],
      "metadata": {
        "id": "kl7spfu5Tcv7"
      },
      "execution_count": 30,
      "outputs": []
    },
    {
      "cell_type": "markdown",
      "source": [
        "Dal risultato del join sulle tabelle Amazon, mi accorgo che ho veramente poche righe non nulle di 'date_added' e 'country'. Tale risultato è dato dal fatto che originalmente amazon_titles_2 aveva a sua volta pochi valori non nulli corrispondenti a tali colonne.\n",
        "Dunque mi aspetto già che i prossimi risultati potranno essere influenzati da tale caratteristica."
      ],
      "metadata": {
        "id": "IDtor8YM0U2a"
      }
    },
    {
      "cell_type": "markdown",
      "source": [
        "Procedo dunque nella pulizia dei dati secondo il seguente schema, applicandolo ad entrambe le tabelle combinate delle due piattaforme:\n",
        "\n",
        "\n",
        "*   Cancello le colonne non utili ai fini richiesti dall'analisi in seguito\n",
        "*   Cancello i valori nulli presso le colonne di interesse per i test statistici e le predizioni.\n",
        "<br>\n",
        "<i>(Localmente a 'imdb_score' e 'tmdb_score' nulli l'alternativa sarebbe stata porre la media dei non nulli; si è scelto comunque di cancellarli in quanto si vuole lasciare il training del metodo predittivo il più pulito possibile (senza influenzarlo con la media; ciò inoltre è stato possibile visto il grande quantitativo di dati nonostante la cancellazione)</i>\n",
        "<br>\n",
        "*   Trasformo i valori nulli della 'age_certification' in 'PG', ovvero un generico Parental Guidance Suggested - 'bollino giallo'\n",
        "*   Infine si osserva che i valori di imdb e tmdb score non presentano rumore del tipo valori fuori range [0,10]\n",
        "\n",
        "\n",
        "\n"
      ],
      "metadata": {
        "id": "-dAuh7gR2ysJ"
      }
    },
    {
      "cell_type": "code",
      "source": [
        "### Pulizia dei dati\n",
        "## NETFLIX\n",
        "\n",
        "# netflix_titles_combinata.head()\n",
        "# Drop colonne: country perchè ha molti null; description, imbd_id, imdb_votes perchè non utili ai nostri fini; seasons perchè contenente molti null\n",
        "netflix_titles_combinata = netflix_titles_combinata.drop(columns=[\"country\", \"description\", \"imdb_id\", \"imdb_votes\", \"seasons\"], axis=1)\n",
        "# Drop righe: cancello le righe nulle su delle feature che mi serviranno in seguito per le predizioni\n",
        "netflix_titles_combinata = netflix_titles_combinata.dropna(axis=0, subset=['imdb_score', 'tmdb_score', 'tmdb_popularity','runtime', 'production_countries'])\n",
        "\n",
        "# I valori nulli di age_certification diventeranno un generico PG (Parental Guidance Suggested - 'bollino giallo')\n",
        "index_null = netflix_titles_combinata[\"age_certification\"].isnull()\n",
        "netflix_titles_combinata.loc[index_null, 'age_certification'] = 'PG'\n",
        "\n",
        "# Osservo che non vi è rumore negli score\n",
        "'''\n",
        "index_null = netflix_titles_combinata[netflix_titles_combinata[\"tmdb_score\"] > 10]\n",
        "print(index_null)\n",
        "index_null = netflix_titles_combinata[netflix_titles_combinata[\"tmdb_score\"] < 0]\n",
        "print(index_null)\n",
        "'''\n",
        "\n",
        "netflix_titles_combinata.reindex()\n",
        "#netflix_titles_combinata.info()"
      ],
      "metadata": {
        "id": "KKcNOWAscRzz",
        "colab": {
          "base_uri": "https://localhost:8080/",
          "height": 519
        },
        "outputId": "95fc7eca-02ae-4bd8-b682-0e9b0b4899ae"
      },
      "execution_count": 31,
      "outputs": [
        {
          "output_type": "execute_result",
          "data": {
            "text/plain": [
              "             id                            title   type  release_year  \\\n",
              "1       tm82169                            Rocky  MOVIE          1976   \n",
              "2       tm47802                           Psycho  MOVIE          1960   \n",
              "3      tm127384  Monty Python and the Holy Grail  MOVIE          1975   \n",
              "4       tm25479                        The Birds  MOVIE          1963   \n",
              "5      tm191099                        The Sting  MOVIE          1973   \n",
              "...         ...                              ...    ...           ...   \n",
              "5988  tm1176905               From Meir, to Meir  MOVIE          2021   \n",
              "5989   tm175364         Chhota Bheem Aur Hanuman  MOVIE          2021   \n",
              "5991  tm1094743                      Konda Polam  MOVIE          2021   \n",
              "5993   tm528044       Chhota Bheem Neeli Pahaadi  MOVIE          2021   \n",
              "5994  tm1216796   Three Widows Against The World  MOVIE          2022   \n",
              "\n",
              "     age_certification  runtime  \\\n",
              "1                   PG      119   \n",
              "2                    R      109   \n",
              "3                   PG       91   \n",
              "4                   PG      113   \n",
              "5                   PG      129   \n",
              "...                ...      ...   \n",
              "5988                PG       62   \n",
              "5989                 G       67   \n",
              "5991                PG      142   \n",
              "5993                 G       63   \n",
              "5994                PG      109   \n",
              "\n",
              "                                                 genres production_countries  \\\n",
              "1                         ['romance', 'drama', 'sport']               ['US']   \n",
              "2                       ['thriller', 'horror', 'drama']               ['US']   \n",
              "3                                 ['comedy', 'fantasy']               ['GB']   \n",
              "4            ['horror', 'drama', 'romance', 'european']               ['US']   \n",
              "5                 ['crime', 'drama', 'comedy', 'music']               ['US']   \n",
              "...                                                 ...                  ...   \n",
              "5988                                  ['documentation']               ['EG']   \n",
              "5989                           ['animation', 'fantasy']               ['IN']   \n",
              "5991  ['action', 'drama', 'thriller', 'crime', 'roma...               ['IN']   \n",
              "5993                                      ['animation']                   []   \n",
              "5994                       ['comedy', 'crime', 'drama']               ['MY']   \n",
              "\n",
              "      imdb_score  tmdb_popularity  tmdb_score       date_added  \n",
              "1            8.1           86.593       7.784   August 1, 2019  \n",
              "2            8.5           31.106       8.446      May 1, 2020  \n",
              "3            8.2           22.267       7.804  January 2, 2019  \n",
              "4            7.6           22.930       7.519              NaN  \n",
              "5            8.3           18.007       8.000              NaN  \n",
              "...          ...              ...         ...              ...  \n",
              "5988         8.1            1.004       4.000              NaN  \n",
              "5989         7.6            0.997       6.200    July 22, 2021  \n",
              "5991         5.7            0.929       6.500              NaN  \n",
              "5993         8.8            0.840      10.000              NaN  \n",
              "5994         6.6            0.786       3.000              NaN  \n",
              "\n",
              "[5393 rows x 12 columns]"
            ],
            "text/html": [
              "\n",
              "  <div id=\"df-3b6913fc-65ee-4779-8c78-e74cf04cedc7\">\n",
              "    <div class=\"colab-df-container\">\n",
              "      <div>\n",
              "<style scoped>\n",
              "    .dataframe tbody tr th:only-of-type {\n",
              "        vertical-align: middle;\n",
              "    }\n",
              "\n",
              "    .dataframe tbody tr th {\n",
              "        vertical-align: top;\n",
              "    }\n",
              "\n",
              "    .dataframe thead th {\n",
              "        text-align: right;\n",
              "    }\n",
              "</style>\n",
              "<table border=\"1\" class=\"dataframe\">\n",
              "  <thead>\n",
              "    <tr style=\"text-align: right;\">\n",
              "      <th></th>\n",
              "      <th>id</th>\n",
              "      <th>title</th>\n",
              "      <th>type</th>\n",
              "      <th>release_year</th>\n",
              "      <th>age_certification</th>\n",
              "      <th>runtime</th>\n",
              "      <th>genres</th>\n",
              "      <th>production_countries</th>\n",
              "      <th>imdb_score</th>\n",
              "      <th>tmdb_popularity</th>\n",
              "      <th>tmdb_score</th>\n",
              "      <th>date_added</th>\n",
              "    </tr>\n",
              "  </thead>\n",
              "  <tbody>\n",
              "    <tr>\n",
              "      <th>1</th>\n",
              "      <td>tm82169</td>\n",
              "      <td>Rocky</td>\n",
              "      <td>MOVIE</td>\n",
              "      <td>1976</td>\n",
              "      <td>PG</td>\n",
              "      <td>119</td>\n",
              "      <td>['romance', 'drama', 'sport']</td>\n",
              "      <td>['US']</td>\n",
              "      <td>8.1</td>\n",
              "      <td>86.593</td>\n",
              "      <td>7.784</td>\n",
              "      <td>August 1, 2019</td>\n",
              "    </tr>\n",
              "    <tr>\n",
              "      <th>2</th>\n",
              "      <td>tm47802</td>\n",
              "      <td>Psycho</td>\n",
              "      <td>MOVIE</td>\n",
              "      <td>1960</td>\n",
              "      <td>R</td>\n",
              "      <td>109</td>\n",
              "      <td>['thriller', 'horror', 'drama']</td>\n",
              "      <td>['US']</td>\n",
              "      <td>8.5</td>\n",
              "      <td>31.106</td>\n",
              "      <td>8.446</td>\n",
              "      <td>May 1, 2020</td>\n",
              "    </tr>\n",
              "    <tr>\n",
              "      <th>3</th>\n",
              "      <td>tm127384</td>\n",
              "      <td>Monty Python and the Holy Grail</td>\n",
              "      <td>MOVIE</td>\n",
              "      <td>1975</td>\n",
              "      <td>PG</td>\n",
              "      <td>91</td>\n",
              "      <td>['comedy', 'fantasy']</td>\n",
              "      <td>['GB']</td>\n",
              "      <td>8.2</td>\n",
              "      <td>22.267</td>\n",
              "      <td>7.804</td>\n",
              "      <td>January 2, 2019</td>\n",
              "    </tr>\n",
              "    <tr>\n",
              "      <th>4</th>\n",
              "      <td>tm25479</td>\n",
              "      <td>The Birds</td>\n",
              "      <td>MOVIE</td>\n",
              "      <td>1963</td>\n",
              "      <td>PG</td>\n",
              "      <td>113</td>\n",
              "      <td>['horror', 'drama', 'romance', 'european']</td>\n",
              "      <td>['US']</td>\n",
              "      <td>7.6</td>\n",
              "      <td>22.930</td>\n",
              "      <td>7.519</td>\n",
              "      <td>NaN</td>\n",
              "    </tr>\n",
              "    <tr>\n",
              "      <th>5</th>\n",
              "      <td>tm191099</td>\n",
              "      <td>The Sting</td>\n",
              "      <td>MOVIE</td>\n",
              "      <td>1973</td>\n",
              "      <td>PG</td>\n",
              "      <td>129</td>\n",
              "      <td>['crime', 'drama', 'comedy', 'music']</td>\n",
              "      <td>['US']</td>\n",
              "      <td>8.3</td>\n",
              "      <td>18.007</td>\n",
              "      <td>8.000</td>\n",
              "      <td>NaN</td>\n",
              "    </tr>\n",
              "    <tr>\n",
              "      <th>...</th>\n",
              "      <td>...</td>\n",
              "      <td>...</td>\n",
              "      <td>...</td>\n",
              "      <td>...</td>\n",
              "      <td>...</td>\n",
              "      <td>...</td>\n",
              "      <td>...</td>\n",
              "      <td>...</td>\n",
              "      <td>...</td>\n",
              "      <td>...</td>\n",
              "      <td>...</td>\n",
              "      <td>...</td>\n",
              "    </tr>\n",
              "    <tr>\n",
              "      <th>5988</th>\n",
              "      <td>tm1176905</td>\n",
              "      <td>From Meir, to Meir</td>\n",
              "      <td>MOVIE</td>\n",
              "      <td>2021</td>\n",
              "      <td>PG</td>\n",
              "      <td>62</td>\n",
              "      <td>['documentation']</td>\n",
              "      <td>['EG']</td>\n",
              "      <td>8.1</td>\n",
              "      <td>1.004</td>\n",
              "      <td>4.000</td>\n",
              "      <td>NaN</td>\n",
              "    </tr>\n",
              "    <tr>\n",
              "      <th>5989</th>\n",
              "      <td>tm175364</td>\n",
              "      <td>Chhota Bheem Aur Hanuman</td>\n",
              "      <td>MOVIE</td>\n",
              "      <td>2021</td>\n",
              "      <td>G</td>\n",
              "      <td>67</td>\n",
              "      <td>['animation', 'fantasy']</td>\n",
              "      <td>['IN']</td>\n",
              "      <td>7.6</td>\n",
              "      <td>0.997</td>\n",
              "      <td>6.200</td>\n",
              "      <td>July 22, 2021</td>\n",
              "    </tr>\n",
              "    <tr>\n",
              "      <th>5991</th>\n",
              "      <td>tm1094743</td>\n",
              "      <td>Konda Polam</td>\n",
              "      <td>MOVIE</td>\n",
              "      <td>2021</td>\n",
              "      <td>PG</td>\n",
              "      <td>142</td>\n",
              "      <td>['action', 'drama', 'thriller', 'crime', 'roma...</td>\n",
              "      <td>['IN']</td>\n",
              "      <td>5.7</td>\n",
              "      <td>0.929</td>\n",
              "      <td>6.500</td>\n",
              "      <td>NaN</td>\n",
              "    </tr>\n",
              "    <tr>\n",
              "      <th>5993</th>\n",
              "      <td>tm528044</td>\n",
              "      <td>Chhota Bheem Neeli Pahaadi</td>\n",
              "      <td>MOVIE</td>\n",
              "      <td>2021</td>\n",
              "      <td>G</td>\n",
              "      <td>63</td>\n",
              "      <td>['animation']</td>\n",
              "      <td>[]</td>\n",
              "      <td>8.8</td>\n",
              "      <td>0.840</td>\n",
              "      <td>10.000</td>\n",
              "      <td>NaN</td>\n",
              "    </tr>\n",
              "    <tr>\n",
              "      <th>5994</th>\n",
              "      <td>tm1216796</td>\n",
              "      <td>Three Widows Against The World</td>\n",
              "      <td>MOVIE</td>\n",
              "      <td>2022</td>\n",
              "      <td>PG</td>\n",
              "      <td>109</td>\n",
              "      <td>['comedy', 'crime', 'drama']</td>\n",
              "      <td>['MY']</td>\n",
              "      <td>6.6</td>\n",
              "      <td>0.786</td>\n",
              "      <td>3.000</td>\n",
              "      <td>NaN</td>\n",
              "    </tr>\n",
              "  </tbody>\n",
              "</table>\n",
              "<p>5393 rows × 12 columns</p>\n",
              "</div>\n",
              "      <button class=\"colab-df-convert\" onclick=\"convertToInteractive('df-3b6913fc-65ee-4779-8c78-e74cf04cedc7')\"\n",
              "              title=\"Convert this dataframe to an interactive table.\"\n",
              "              style=\"display:none;\">\n",
              "        \n",
              "  <svg xmlns=\"http://www.w3.org/2000/svg\" height=\"24px\"viewBox=\"0 0 24 24\"\n",
              "       width=\"24px\">\n",
              "    <path d=\"M0 0h24v24H0V0z\" fill=\"none\"/>\n",
              "    <path d=\"M18.56 5.44l.94 2.06.94-2.06 2.06-.94-2.06-.94-.94-2.06-.94 2.06-2.06.94zm-11 1L8.5 8.5l.94-2.06 2.06-.94-2.06-.94L8.5 2.5l-.94 2.06-2.06.94zm10 10l.94 2.06.94-2.06 2.06-.94-2.06-.94-.94-2.06-.94 2.06-2.06.94z\"/><path d=\"M17.41 7.96l-1.37-1.37c-.4-.4-.92-.59-1.43-.59-.52 0-1.04.2-1.43.59L10.3 9.45l-7.72 7.72c-.78.78-.78 2.05 0 2.83L4 21.41c.39.39.9.59 1.41.59.51 0 1.02-.2 1.41-.59l7.78-7.78 2.81-2.81c.8-.78.8-2.07 0-2.86zM5.41 20L4 18.59l7.72-7.72 1.47 1.35L5.41 20z\"/>\n",
              "  </svg>\n",
              "      </button>\n",
              "      \n",
              "  <style>\n",
              "    .colab-df-container {\n",
              "      display:flex;\n",
              "      flex-wrap:wrap;\n",
              "      gap: 12px;\n",
              "    }\n",
              "\n",
              "    .colab-df-convert {\n",
              "      background-color: #E8F0FE;\n",
              "      border: none;\n",
              "      border-radius: 50%;\n",
              "      cursor: pointer;\n",
              "      display: none;\n",
              "      fill: #1967D2;\n",
              "      height: 32px;\n",
              "      padding: 0 0 0 0;\n",
              "      width: 32px;\n",
              "    }\n",
              "\n",
              "    .colab-df-convert:hover {\n",
              "      background-color: #E2EBFA;\n",
              "      box-shadow: 0px 1px 2px rgba(60, 64, 67, 0.3), 0px 1px 3px 1px rgba(60, 64, 67, 0.15);\n",
              "      fill: #174EA6;\n",
              "    }\n",
              "\n",
              "    [theme=dark] .colab-df-convert {\n",
              "      background-color: #3B4455;\n",
              "      fill: #D2E3FC;\n",
              "    }\n",
              "\n",
              "    [theme=dark] .colab-df-convert:hover {\n",
              "      background-color: #434B5C;\n",
              "      box-shadow: 0px 1px 3px 1px rgba(0, 0, 0, 0.15);\n",
              "      filter: drop-shadow(0px 1px 2px rgba(0, 0, 0, 0.3));\n",
              "      fill: #FFFFFF;\n",
              "    }\n",
              "  </style>\n",
              "\n",
              "      <script>\n",
              "        const buttonEl =\n",
              "          document.querySelector('#df-3b6913fc-65ee-4779-8c78-e74cf04cedc7 button.colab-df-convert');\n",
              "        buttonEl.style.display =\n",
              "          google.colab.kernel.accessAllowed ? 'block' : 'none';\n",
              "\n",
              "        async function convertToInteractive(key) {\n",
              "          const element = document.querySelector('#df-3b6913fc-65ee-4779-8c78-e74cf04cedc7');\n",
              "          const dataTable =\n",
              "            await google.colab.kernel.invokeFunction('convertToInteractive',\n",
              "                                                     [key], {});\n",
              "          if (!dataTable) return;\n",
              "\n",
              "          const docLinkHtml = 'Like what you see? Visit the ' +\n",
              "            '<a target=\"_blank\" href=https://colab.research.google.com/notebooks/data_table.ipynb>data table notebook</a>'\n",
              "            + ' to learn more about interactive tables.';\n",
              "          element.innerHTML = '';\n",
              "          dataTable['output_type'] = 'display_data';\n",
              "          await google.colab.output.renderOutput(dataTable, element);\n",
              "          const docLink = document.createElement('div');\n",
              "          docLink.innerHTML = docLinkHtml;\n",
              "          element.appendChild(docLink);\n",
              "        }\n",
              "      </script>\n",
              "    </div>\n",
              "  </div>\n",
              "  "
            ]
          },
          "metadata": {},
          "execution_count": 31
        }
      ]
    },
    {
      "cell_type": "code",
      "source": [
        "## AMAZON\n",
        "\n",
        "# amazon_titles_combinata.head()\n",
        "# Drop colonne: country perchè ha molti null; description, imbd_id, imdb_votes perchè non utili ai nostri fini; seasons perchè contenente molti null\n",
        "amazon_titles_combinata = amazon_titles_combinata.drop(columns=[\"country\", \"description\", \"imdb_id\", \"imdb_votes\", \"seasons\"], axis=1)\n",
        "# Drop righe: cancello le righe nulle su delle feature che mi serviranno in seguito per le predizioni\n",
        "amazon_titles_combinata = amazon_titles_combinata.dropna(axis=0, subset=['imdb_score', 'tmdb_score', 'tmdb_popularity', 'runtime', 'production_countries'])\n",
        "\n",
        "# I valori nulli di age_certification diventeranno un generico PG (Parental Guidance Suggested - 'bollino giallo')\n",
        "index_null = amazon_titles_combinata[\"age_certification\"].isnull()\n",
        "amazon_titles_combinata.loc[index_null, 'age_certification'] = 'PG'\n",
        "\n",
        "amazon_titles_combinata.reindex()\n",
        "amazon_titles_combinata.info()"
      ],
      "metadata": {
        "id": "17rZXJfBrLlw",
        "colab": {
          "base_uri": "https://localhost:8080/"
        },
        "outputId": "8c70a9a0-abf0-44fb-f4a9-5b104a7fde02"
      },
      "execution_count": 32,
      "outputs": [
        {
          "output_type": "stream",
          "name": "stdout",
          "text": [
            "<class 'pandas.core.frame.DataFrame'>\n",
            "Int64Index: 8210 entries, 0 to 10701\n",
            "Data columns (total 12 columns):\n",
            " #   Column                Non-Null Count  Dtype  \n",
            "---  ------                --------------  -----  \n",
            " 0   id                    8210 non-null   object \n",
            " 1   title                 8210 non-null   object \n",
            " 2   type                  8210 non-null   object \n",
            " 3   release_year          8210 non-null   int64  \n",
            " 4   age_certification     8210 non-null   object \n",
            " 5   runtime               8210 non-null   int64  \n",
            " 6   genres                8210 non-null   object \n",
            " 7   production_countries  8210 non-null   object \n",
            " 8   imdb_score            8210 non-null   float64\n",
            " 9   tmdb_popularity       8210 non-null   float64\n",
            " 10  tmdb_score            8210 non-null   float64\n",
            " 11  date_added            49 non-null     object \n",
            "dtypes: float64(3), int64(2), object(7)\n",
            "memory usage: 833.8+ KB\n"
          ]
        }
      ]
    },
    {
      "cell_type": "code",
      "source": [
        "# Concateno i due dataset combinati\n",
        "final_titles = pd.concat([netflix_titles_combinata, amazon_titles_combinata])\n",
        "print('Netflix: ', netflix_titles_combinata.shape)\n",
        "print('Amazon: ', amazon_titles_combinata.shape)\n",
        "print('Concatenazione: ',final_titles.shape)\n",
        "\n",
        "final_titles.head()"
      ],
      "metadata": {
        "colab": {
          "base_uri": "https://localhost:8080/",
          "height": 305
        },
        "id": "O5-nDV25xKLO",
        "outputId": "529aa530-d36c-4f0f-f330-2d2b0844abca"
      },
      "execution_count": 33,
      "outputs": [
        {
          "output_type": "stream",
          "name": "stdout",
          "text": [
            "Netflix:  (5393, 12)\n",
            "Amazon:  (8210, 12)\n",
            "Concatenazione:  (13603, 12)\n"
          ]
        },
        {
          "output_type": "execute_result",
          "data": {
            "text/plain": [
              "         id                            title   type  release_year  \\\n",
              "1   tm82169                            Rocky  MOVIE          1976   \n",
              "2   tm47802                           Psycho  MOVIE          1960   \n",
              "3  tm127384  Monty Python and the Holy Grail  MOVIE          1975   \n",
              "4   tm25479                        The Birds  MOVIE          1963   \n",
              "5  tm191099                        The Sting  MOVIE          1973   \n",
              "\n",
              "  age_certification  runtime                                      genres  \\\n",
              "1                PG      119               ['romance', 'drama', 'sport']   \n",
              "2                 R      109             ['thriller', 'horror', 'drama']   \n",
              "3                PG       91                       ['comedy', 'fantasy']   \n",
              "4                PG      113  ['horror', 'drama', 'romance', 'european']   \n",
              "5                PG      129       ['crime', 'drama', 'comedy', 'music']   \n",
              "\n",
              "  production_countries  imdb_score  tmdb_popularity  tmdb_score  \\\n",
              "1               ['US']         8.1           86.593       7.784   \n",
              "2               ['US']         8.5           31.106       8.446   \n",
              "3               ['GB']         8.2           22.267       7.804   \n",
              "4               ['US']         7.6           22.930       7.519   \n",
              "5               ['US']         8.3           18.007       8.000   \n",
              "\n",
              "        date_added  \n",
              "1   August 1, 2019  \n",
              "2      May 1, 2020  \n",
              "3  January 2, 2019  \n",
              "4              NaN  \n",
              "5              NaN  "
            ],
            "text/html": [
              "\n",
              "  <div id=\"df-256600cc-8c71-4d26-b306-0a977f7a6a77\">\n",
              "    <div class=\"colab-df-container\">\n",
              "      <div>\n",
              "<style scoped>\n",
              "    .dataframe tbody tr th:only-of-type {\n",
              "        vertical-align: middle;\n",
              "    }\n",
              "\n",
              "    .dataframe tbody tr th {\n",
              "        vertical-align: top;\n",
              "    }\n",
              "\n",
              "    .dataframe thead th {\n",
              "        text-align: right;\n",
              "    }\n",
              "</style>\n",
              "<table border=\"1\" class=\"dataframe\">\n",
              "  <thead>\n",
              "    <tr style=\"text-align: right;\">\n",
              "      <th></th>\n",
              "      <th>id</th>\n",
              "      <th>title</th>\n",
              "      <th>type</th>\n",
              "      <th>release_year</th>\n",
              "      <th>age_certification</th>\n",
              "      <th>runtime</th>\n",
              "      <th>genres</th>\n",
              "      <th>production_countries</th>\n",
              "      <th>imdb_score</th>\n",
              "      <th>tmdb_popularity</th>\n",
              "      <th>tmdb_score</th>\n",
              "      <th>date_added</th>\n",
              "    </tr>\n",
              "  </thead>\n",
              "  <tbody>\n",
              "    <tr>\n",
              "      <th>1</th>\n",
              "      <td>tm82169</td>\n",
              "      <td>Rocky</td>\n",
              "      <td>MOVIE</td>\n",
              "      <td>1976</td>\n",
              "      <td>PG</td>\n",
              "      <td>119</td>\n",
              "      <td>['romance', 'drama', 'sport']</td>\n",
              "      <td>['US']</td>\n",
              "      <td>8.1</td>\n",
              "      <td>86.593</td>\n",
              "      <td>7.784</td>\n",
              "      <td>August 1, 2019</td>\n",
              "    </tr>\n",
              "    <tr>\n",
              "      <th>2</th>\n",
              "      <td>tm47802</td>\n",
              "      <td>Psycho</td>\n",
              "      <td>MOVIE</td>\n",
              "      <td>1960</td>\n",
              "      <td>R</td>\n",
              "      <td>109</td>\n",
              "      <td>['thriller', 'horror', 'drama']</td>\n",
              "      <td>['US']</td>\n",
              "      <td>8.5</td>\n",
              "      <td>31.106</td>\n",
              "      <td>8.446</td>\n",
              "      <td>May 1, 2020</td>\n",
              "    </tr>\n",
              "    <tr>\n",
              "      <th>3</th>\n",
              "      <td>tm127384</td>\n",
              "      <td>Monty Python and the Holy Grail</td>\n",
              "      <td>MOVIE</td>\n",
              "      <td>1975</td>\n",
              "      <td>PG</td>\n",
              "      <td>91</td>\n",
              "      <td>['comedy', 'fantasy']</td>\n",
              "      <td>['GB']</td>\n",
              "      <td>8.2</td>\n",
              "      <td>22.267</td>\n",
              "      <td>7.804</td>\n",
              "      <td>January 2, 2019</td>\n",
              "    </tr>\n",
              "    <tr>\n",
              "      <th>4</th>\n",
              "      <td>tm25479</td>\n",
              "      <td>The Birds</td>\n",
              "      <td>MOVIE</td>\n",
              "      <td>1963</td>\n",
              "      <td>PG</td>\n",
              "      <td>113</td>\n",
              "      <td>['horror', 'drama', 'romance', 'european']</td>\n",
              "      <td>['US']</td>\n",
              "      <td>7.6</td>\n",
              "      <td>22.930</td>\n",
              "      <td>7.519</td>\n",
              "      <td>NaN</td>\n",
              "    </tr>\n",
              "    <tr>\n",
              "      <th>5</th>\n",
              "      <td>tm191099</td>\n",
              "      <td>The Sting</td>\n",
              "      <td>MOVIE</td>\n",
              "      <td>1973</td>\n",
              "      <td>PG</td>\n",
              "      <td>129</td>\n",
              "      <td>['crime', 'drama', 'comedy', 'music']</td>\n",
              "      <td>['US']</td>\n",
              "      <td>8.3</td>\n",
              "      <td>18.007</td>\n",
              "      <td>8.000</td>\n",
              "      <td>NaN</td>\n",
              "    </tr>\n",
              "  </tbody>\n",
              "</table>\n",
              "</div>\n",
              "      <button class=\"colab-df-convert\" onclick=\"convertToInteractive('df-256600cc-8c71-4d26-b306-0a977f7a6a77')\"\n",
              "              title=\"Convert this dataframe to an interactive table.\"\n",
              "              style=\"display:none;\">\n",
              "        \n",
              "  <svg xmlns=\"http://www.w3.org/2000/svg\" height=\"24px\"viewBox=\"0 0 24 24\"\n",
              "       width=\"24px\">\n",
              "    <path d=\"M0 0h24v24H0V0z\" fill=\"none\"/>\n",
              "    <path d=\"M18.56 5.44l.94 2.06.94-2.06 2.06-.94-2.06-.94-.94-2.06-.94 2.06-2.06.94zm-11 1L8.5 8.5l.94-2.06 2.06-.94-2.06-.94L8.5 2.5l-.94 2.06-2.06.94zm10 10l.94 2.06.94-2.06 2.06-.94-2.06-.94-.94-2.06-.94 2.06-2.06.94z\"/><path d=\"M17.41 7.96l-1.37-1.37c-.4-.4-.92-.59-1.43-.59-.52 0-1.04.2-1.43.59L10.3 9.45l-7.72 7.72c-.78.78-.78 2.05 0 2.83L4 21.41c.39.39.9.59 1.41.59.51 0 1.02-.2 1.41-.59l7.78-7.78 2.81-2.81c.8-.78.8-2.07 0-2.86zM5.41 20L4 18.59l7.72-7.72 1.47 1.35L5.41 20z\"/>\n",
              "  </svg>\n",
              "      </button>\n",
              "      \n",
              "  <style>\n",
              "    .colab-df-container {\n",
              "      display:flex;\n",
              "      flex-wrap:wrap;\n",
              "      gap: 12px;\n",
              "    }\n",
              "\n",
              "    .colab-df-convert {\n",
              "      background-color: #E8F0FE;\n",
              "      border: none;\n",
              "      border-radius: 50%;\n",
              "      cursor: pointer;\n",
              "      display: none;\n",
              "      fill: #1967D2;\n",
              "      height: 32px;\n",
              "      padding: 0 0 0 0;\n",
              "      width: 32px;\n",
              "    }\n",
              "\n",
              "    .colab-df-convert:hover {\n",
              "      background-color: #E2EBFA;\n",
              "      box-shadow: 0px 1px 2px rgba(60, 64, 67, 0.3), 0px 1px 3px 1px rgba(60, 64, 67, 0.15);\n",
              "      fill: #174EA6;\n",
              "    }\n",
              "\n",
              "    [theme=dark] .colab-df-convert {\n",
              "      background-color: #3B4455;\n",
              "      fill: #D2E3FC;\n",
              "    }\n",
              "\n",
              "    [theme=dark] .colab-df-convert:hover {\n",
              "      background-color: #434B5C;\n",
              "      box-shadow: 0px 1px 3px 1px rgba(0, 0, 0, 0.15);\n",
              "      filter: drop-shadow(0px 1px 2px rgba(0, 0, 0, 0.3));\n",
              "      fill: #FFFFFF;\n",
              "    }\n",
              "  </style>\n",
              "\n",
              "      <script>\n",
              "        const buttonEl =\n",
              "          document.querySelector('#df-256600cc-8c71-4d26-b306-0a977f7a6a77 button.colab-df-convert');\n",
              "        buttonEl.style.display =\n",
              "          google.colab.kernel.accessAllowed ? 'block' : 'none';\n",
              "\n",
              "        async function convertToInteractive(key) {\n",
              "          const element = document.querySelector('#df-256600cc-8c71-4d26-b306-0a977f7a6a77');\n",
              "          const dataTable =\n",
              "            await google.colab.kernel.invokeFunction('convertToInteractive',\n",
              "                                                     [key], {});\n",
              "          if (!dataTable) return;\n",
              "\n",
              "          const docLinkHtml = 'Like what you see? Visit the ' +\n",
              "            '<a target=\"_blank\" href=https://colab.research.google.com/notebooks/data_table.ipynb>data table notebook</a>'\n",
              "            + ' to learn more about interactive tables.';\n",
              "          element.innerHTML = '';\n",
              "          dataTable['output_type'] = 'display_data';\n",
              "          await google.colab.output.renderOutput(dataTable, element);\n",
              "          const docLink = document.createElement('div');\n",
              "          docLink.innerHTML = docLinkHtml;\n",
              "          element.appendChild(docLink);\n",
              "        }\n",
              "      </script>\n",
              "    </div>\n",
              "  </div>\n",
              "  "
            ]
          },
          "metadata": {},
          "execution_count": 33
        }
      ]
    },
    {
      "cell_type": "markdown",
      "source": [
        "<h1> 2. Trasformazione </h2>"
      ],
      "metadata": {
        "id": "UHcjGa_lyJol"
      }
    },
    {
      "cell_type": "code",
      "source": [
        "### Sostituzione della colonna date_added con year_added e month_added\n",
        "netflix_titles_combinata['date_added'] = pd.to_datetime(netflix_titles_combinata['date_added'], errors='coerce') # set null values of date to NaT\n",
        "netflix_titles_combinata['month_added'] = netflix_titles_combinata['date_added'].dt.month\n",
        "netflix_titles_combinata['year_added'] = netflix_titles_combinata['date_added'].dt.year\n",
        "netflix_titles_combinata = netflix_titles_combinata.drop(columns=[\"date_added\"], axis=1)\n",
        "\n",
        "amazon_titles_combinata['date_added'] = pd.to_datetime(amazon_titles_combinata['date_added'], errors='coerce') # set null values of date to NaT\n",
        "amazon_titles_combinata['month_added'] = amazon_titles_combinata['date_added'].dt.month\n",
        "amazon_titles_combinata['year_added'] = amazon_titles_combinata['date_added'].dt.year\n",
        "amazon_titles_combinata = amazon_titles_combinata.drop(columns=[\"date_added\"], axis=1)\n",
        "\n",
        "final_titles = pd.concat([netflix_titles_combinata, amazon_titles_combinata])\n",
        "final_titles.reindex()\n",
        "final_titles.info()"
      ],
      "metadata": {
        "colab": {
          "base_uri": "https://localhost:8080/"
        },
        "id": "lRYPyCsFx3lO",
        "outputId": "dd63f271-7d7b-4744-8c82-92d8b6c5366f"
      },
      "execution_count": 34,
      "outputs": [
        {
          "output_type": "stream",
          "name": "stdout",
          "text": [
            "<class 'pandas.core.frame.DataFrame'>\n",
            "Int64Index: 13603 entries, 1 to 10701\n",
            "Data columns (total 13 columns):\n",
            " #   Column                Non-Null Count  Dtype  \n",
            "---  ------                --------------  -----  \n",
            " 0   id                    13603 non-null  object \n",
            " 1   title                 13603 non-null  object \n",
            " 2   type                  13603 non-null  object \n",
            " 3   release_year          13603 non-null  int64  \n",
            " 4   age_certification     13603 non-null  object \n",
            " 5   runtime               13603 non-null  int64  \n",
            " 6   genres                13603 non-null  object \n",
            " 7   production_countries  13603 non-null  object \n",
            " 8   imdb_score            13603 non-null  float64\n",
            " 9   tmdb_popularity       13603 non-null  float64\n",
            " 10  tmdb_score            13603 non-null  float64\n",
            " 11  month_added           3306 non-null   float64\n",
            " 12  year_added            3306 non-null   float64\n",
            "dtypes: float64(5), int64(2), object(6)\n",
            "memory usage: 1.5+ MB\n"
          ]
        }
      ]
    },
    {
      "cell_type": "code",
      "source": [
        "### Sostituzione della colonna genres con il numero di generi associati genres_number\n",
        "final_titles.drop(index = 0)\n",
        "for i in range(len(final_titles)):\n",
        "    s = str(final_titles[\"genres\"].iloc[i][2:-2])\n",
        "    news = s.replace(\"'\", \"\")\n",
        "    x = news.split(\", \")\n",
        "    final_titles.loc[i,'genres_number'] = len(x);"
      ],
      "metadata": {
        "id": "aTPOSKixzpW_"
      },
      "execution_count": 35,
      "outputs": []
    },
    {
      "cell_type": "code",
      "source": [
        "final_titles.head()"
      ],
      "metadata": {
        "colab": {
          "base_uri": "https://localhost:8080/",
          "height": 302
        },
        "id": "x6W9s_w97qsH",
        "outputId": "35ee908b-236c-48dc-de0b-a0de0e781094"
      },
      "execution_count": 36,
      "outputs": [
        {
          "output_type": "execute_result",
          "data": {
            "text/plain": [
              "         id                            title   type  release_year  \\\n",
              "1   tm82169                            Rocky  MOVIE        1976.0   \n",
              "2   tm47802                           Psycho  MOVIE        1960.0   \n",
              "3  tm127384  Monty Python and the Holy Grail  MOVIE        1975.0   \n",
              "4   tm25479                        The Birds  MOVIE        1963.0   \n",
              "5  tm191099                        The Sting  MOVIE        1973.0   \n",
              "\n",
              "  age_certification  runtime                                      genres  \\\n",
              "1                PG    119.0               ['romance', 'drama', 'sport']   \n",
              "2                 R    109.0             ['thriller', 'horror', 'drama']   \n",
              "3                PG     91.0                       ['comedy', 'fantasy']   \n",
              "4                PG    113.0  ['horror', 'drama', 'romance', 'european']   \n",
              "5                PG    129.0       ['crime', 'drama', 'comedy', 'music']   \n",
              "\n",
              "  production_countries  imdb_score  tmdb_popularity  tmdb_score  month_added  \\\n",
              "1               ['US']         8.1           86.593       7.784          8.0   \n",
              "2               ['US']         8.5           31.106       8.446          5.0   \n",
              "3               ['GB']         8.2           22.267       7.804          1.0   \n",
              "4               ['US']         7.6           22.930       7.519          NaN   \n",
              "5               ['US']         8.3           18.007       8.000          NaN   \n",
              "\n",
              "   year_added  genres_number  \n",
              "1      2019.0            3.0  \n",
              "2      2020.0            2.0  \n",
              "3      2019.0            4.0  \n",
              "4         NaN            4.0  \n",
              "5         NaN            2.0  "
            ],
            "text/html": [
              "\n",
              "  <div id=\"df-dd314b8a-3491-4636-90ba-2e0287360d7a\">\n",
              "    <div class=\"colab-df-container\">\n",
              "      <div>\n",
              "<style scoped>\n",
              "    .dataframe tbody tr th:only-of-type {\n",
              "        vertical-align: middle;\n",
              "    }\n",
              "\n",
              "    .dataframe tbody tr th {\n",
              "        vertical-align: top;\n",
              "    }\n",
              "\n",
              "    .dataframe thead th {\n",
              "        text-align: right;\n",
              "    }\n",
              "</style>\n",
              "<table border=\"1\" class=\"dataframe\">\n",
              "  <thead>\n",
              "    <tr style=\"text-align: right;\">\n",
              "      <th></th>\n",
              "      <th>id</th>\n",
              "      <th>title</th>\n",
              "      <th>type</th>\n",
              "      <th>release_year</th>\n",
              "      <th>age_certification</th>\n",
              "      <th>runtime</th>\n",
              "      <th>genres</th>\n",
              "      <th>production_countries</th>\n",
              "      <th>imdb_score</th>\n",
              "      <th>tmdb_popularity</th>\n",
              "      <th>tmdb_score</th>\n",
              "      <th>month_added</th>\n",
              "      <th>year_added</th>\n",
              "      <th>genres_number</th>\n",
              "    </tr>\n",
              "  </thead>\n",
              "  <tbody>\n",
              "    <tr>\n",
              "      <th>1</th>\n",
              "      <td>tm82169</td>\n",
              "      <td>Rocky</td>\n",
              "      <td>MOVIE</td>\n",
              "      <td>1976.0</td>\n",
              "      <td>PG</td>\n",
              "      <td>119.0</td>\n",
              "      <td>['romance', 'drama', 'sport']</td>\n",
              "      <td>['US']</td>\n",
              "      <td>8.1</td>\n",
              "      <td>86.593</td>\n",
              "      <td>7.784</td>\n",
              "      <td>8.0</td>\n",
              "      <td>2019.0</td>\n",
              "      <td>3.0</td>\n",
              "    </tr>\n",
              "    <tr>\n",
              "      <th>2</th>\n",
              "      <td>tm47802</td>\n",
              "      <td>Psycho</td>\n",
              "      <td>MOVIE</td>\n",
              "      <td>1960.0</td>\n",
              "      <td>R</td>\n",
              "      <td>109.0</td>\n",
              "      <td>['thriller', 'horror', 'drama']</td>\n",
              "      <td>['US']</td>\n",
              "      <td>8.5</td>\n",
              "      <td>31.106</td>\n",
              "      <td>8.446</td>\n",
              "      <td>5.0</td>\n",
              "      <td>2020.0</td>\n",
              "      <td>2.0</td>\n",
              "    </tr>\n",
              "    <tr>\n",
              "      <th>3</th>\n",
              "      <td>tm127384</td>\n",
              "      <td>Monty Python and the Holy Grail</td>\n",
              "      <td>MOVIE</td>\n",
              "      <td>1975.0</td>\n",
              "      <td>PG</td>\n",
              "      <td>91.0</td>\n",
              "      <td>['comedy', 'fantasy']</td>\n",
              "      <td>['GB']</td>\n",
              "      <td>8.2</td>\n",
              "      <td>22.267</td>\n",
              "      <td>7.804</td>\n",
              "      <td>1.0</td>\n",
              "      <td>2019.0</td>\n",
              "      <td>4.0</td>\n",
              "    </tr>\n",
              "    <tr>\n",
              "      <th>4</th>\n",
              "      <td>tm25479</td>\n",
              "      <td>The Birds</td>\n",
              "      <td>MOVIE</td>\n",
              "      <td>1963.0</td>\n",
              "      <td>PG</td>\n",
              "      <td>113.0</td>\n",
              "      <td>['horror', 'drama', 'romance', 'european']</td>\n",
              "      <td>['US']</td>\n",
              "      <td>7.6</td>\n",
              "      <td>22.930</td>\n",
              "      <td>7.519</td>\n",
              "      <td>NaN</td>\n",
              "      <td>NaN</td>\n",
              "      <td>4.0</td>\n",
              "    </tr>\n",
              "    <tr>\n",
              "      <th>5</th>\n",
              "      <td>tm191099</td>\n",
              "      <td>The Sting</td>\n",
              "      <td>MOVIE</td>\n",
              "      <td>1973.0</td>\n",
              "      <td>PG</td>\n",
              "      <td>129.0</td>\n",
              "      <td>['crime', 'drama', 'comedy', 'music']</td>\n",
              "      <td>['US']</td>\n",
              "      <td>8.3</td>\n",
              "      <td>18.007</td>\n",
              "      <td>8.000</td>\n",
              "      <td>NaN</td>\n",
              "      <td>NaN</td>\n",
              "      <td>2.0</td>\n",
              "    </tr>\n",
              "  </tbody>\n",
              "</table>\n",
              "</div>\n",
              "      <button class=\"colab-df-convert\" onclick=\"convertToInteractive('df-dd314b8a-3491-4636-90ba-2e0287360d7a')\"\n",
              "              title=\"Convert this dataframe to an interactive table.\"\n",
              "              style=\"display:none;\">\n",
              "        \n",
              "  <svg xmlns=\"http://www.w3.org/2000/svg\" height=\"24px\"viewBox=\"0 0 24 24\"\n",
              "       width=\"24px\">\n",
              "    <path d=\"M0 0h24v24H0V0z\" fill=\"none\"/>\n",
              "    <path d=\"M18.56 5.44l.94 2.06.94-2.06 2.06-.94-2.06-.94-.94-2.06-.94 2.06-2.06.94zm-11 1L8.5 8.5l.94-2.06 2.06-.94-2.06-.94L8.5 2.5l-.94 2.06-2.06.94zm10 10l.94 2.06.94-2.06 2.06-.94-2.06-.94-.94-2.06-.94 2.06-2.06.94z\"/><path d=\"M17.41 7.96l-1.37-1.37c-.4-.4-.92-.59-1.43-.59-.52 0-1.04.2-1.43.59L10.3 9.45l-7.72 7.72c-.78.78-.78 2.05 0 2.83L4 21.41c.39.39.9.59 1.41.59.51 0 1.02-.2 1.41-.59l7.78-7.78 2.81-2.81c.8-.78.8-2.07 0-2.86zM5.41 20L4 18.59l7.72-7.72 1.47 1.35L5.41 20z\"/>\n",
              "  </svg>\n",
              "      </button>\n",
              "      \n",
              "  <style>\n",
              "    .colab-df-container {\n",
              "      display:flex;\n",
              "      flex-wrap:wrap;\n",
              "      gap: 12px;\n",
              "    }\n",
              "\n",
              "    .colab-df-convert {\n",
              "      background-color: #E8F0FE;\n",
              "      border: none;\n",
              "      border-radius: 50%;\n",
              "      cursor: pointer;\n",
              "      display: none;\n",
              "      fill: #1967D2;\n",
              "      height: 32px;\n",
              "      padding: 0 0 0 0;\n",
              "      width: 32px;\n",
              "    }\n",
              "\n",
              "    .colab-df-convert:hover {\n",
              "      background-color: #E2EBFA;\n",
              "      box-shadow: 0px 1px 2px rgba(60, 64, 67, 0.3), 0px 1px 3px 1px rgba(60, 64, 67, 0.15);\n",
              "      fill: #174EA6;\n",
              "    }\n",
              "\n",
              "    [theme=dark] .colab-df-convert {\n",
              "      background-color: #3B4455;\n",
              "      fill: #D2E3FC;\n",
              "    }\n",
              "\n",
              "    [theme=dark] .colab-df-convert:hover {\n",
              "      background-color: #434B5C;\n",
              "      box-shadow: 0px 1px 3px 1px rgba(0, 0, 0, 0.15);\n",
              "      filter: drop-shadow(0px 1px 2px rgba(0, 0, 0, 0.3));\n",
              "      fill: #FFFFFF;\n",
              "    }\n",
              "  </style>\n",
              "\n",
              "      <script>\n",
              "        const buttonEl =\n",
              "          document.querySelector('#df-dd314b8a-3491-4636-90ba-2e0287360d7a button.colab-df-convert');\n",
              "        buttonEl.style.display =\n",
              "          google.colab.kernel.accessAllowed ? 'block' : 'none';\n",
              "\n",
              "        async function convertToInteractive(key) {\n",
              "          const element = document.querySelector('#df-dd314b8a-3491-4636-90ba-2e0287360d7a');\n",
              "          const dataTable =\n",
              "            await google.colab.kernel.invokeFunction('convertToInteractive',\n",
              "                                                     [key], {});\n",
              "          if (!dataTable) return;\n",
              "\n",
              "          const docLinkHtml = 'Like what you see? Visit the ' +\n",
              "            '<a target=\"_blank\" href=https://colab.research.google.com/notebooks/data_table.ipynb>data table notebook</a>'\n",
              "            + ' to learn more about interactive tables.';\n",
              "          element.innerHTML = '';\n",
              "          dataTable['output_type'] = 'display_data';\n",
              "          await google.colab.output.renderOutput(dataTable, element);\n",
              "          const docLink = document.createElement('div');\n",
              "          docLink.innerHTML = docLinkHtml;\n",
              "          element.appendChild(docLink);\n",
              "        }\n",
              "      </script>\n",
              "    </div>\n",
              "  </div>\n",
              "  "
            ]
          },
          "metadata": {},
          "execution_count": 36
        }
      ]
    },
    {
      "cell_type": "markdown",
      "source": [
        "<h1>3. Esplorazione</h1>"
      ],
      "metadata": {
        "id": "AdPLY13246aZ"
      }
    },
    {
      "cell_type": "markdown",
      "source": [
        "Per rappresentare meglio la distribuzione dell'imdb_score in base alle age_certification, si è scelto l'ausilio di un box-plot. Tale grafico permette infatti ad occhio di osservare come oscillano i punteggi in base alla categoria di età, fornendo inoltre un valore mediano."
      ],
      "metadata": {
        "id": "kXUpxyxVANm5"
      }
    },
    {
      "cell_type": "code",
      "source": [
        "# Rappresentare la distribuzione dell'imdb_score in base alle age_certification\n",
        "final_titles.boxplot(column='imdb_score', by='age_certification', figsize=(8,4))"
      ],
      "metadata": {
        "id": "GfOHbiGg493I",
        "colab": {
          "base_uri": "https://localhost:8080/",
          "height": 430
        },
        "outputId": "7dd02723-fece-41e8-d678-a22f46a4a8e0"
      },
      "execution_count": 37,
      "outputs": [
        {
          "output_type": "execute_result",
          "data": {
            "text/plain": [
              "<Axes: title={'center': 'imdb_score'}, xlabel='age_certification'>"
            ]
          },
          "metadata": {},
          "execution_count": 37
        },
        {
          "output_type": "display_data",
          "data": {
            "text/plain": [
              "<Figure size 800x400 with 1 Axes>"
            ],
            "image/png": "[encoded data removed]"
          },
          "metadata": {}
        }
      ]
    },
    {
      "cell_type": "markdown",
      "source": [
        "Si osserva in particolare un grande numero di outliners, in particolare per PG: tale osservazione denota un punteggio molto basso per film Parental Guidance Suggested. Bisogna dire che la quantità di valori può essere determinata anche dall'azione di pulizia precedentemente citata, che trasforma i valori nulli proprio in PG."
      ],
      "metadata": {
        "id": "DfvSbYpjAscs"
      }
    },
    {
      "cell_type": "code",
      "source": [
        "# Rappresentare il numero di programmi prodotti negli anni\n",
        "# value counts ordina automaticamente dal valore più alto al più basso\n",
        "production = final_titles['release_year'].value_counts(sort=True)\n",
        "fig = plt.figure(figsize=(20,6))\n",
        "production.plot(kind='bar')\n",
        "\n",
        "# Per verificare\n",
        "# print(np.sum(final_titles['release_year'] == 2020))"
      ],
      "metadata": {
        "id": "pghOlMPU5lFY",
        "colab": {
          "base_uri": "https://localhost:8080/",
          "height": 566
        },
        "outputId": "d190b7a3-bb80-4336-d876-7b0bcaf0693b"
      },
      "execution_count": 38,
      "outputs": [
        {
          "output_type": "execute_result",
          "data": {
            "text/plain": [
              "<Axes: >"
            ]
          },
          "metadata": {},
          "execution_count": 38
        },
        {
          "output_type": "display_data",
          "data": {
            "text/plain": [
              "<Figure size 2000x600 with 1 Axes>"
            ],
            "image/png": "[encoded data removed]"
          },
          "metadata": {}
        }
      ]
    },
    {
      "cell_type": "markdown",
      "source": [
        "Si può notare dal grafico che la maggior parte dei film presenti in ambo le piattaforme fa riferimento a un periodo annuo che inizia prevalentemente dagli anni 2000. Il picco si raggiunge negli anni fra il 2020 e il 2022."
      ],
      "metadata": {
        "id": "jqtkLESHBYhS"
      }
    },
    {
      "cell_type": "code",
      "source": [
        "# Rispetto agli anni di caricamento sulle piattaforme\n",
        "# value counts ordina automaticamente dal valore più alto al più basso\n",
        "production = final_titles['year_added'].value_counts(sort=True)\n",
        "fig = plt.figure(figsize=(20,6))\n",
        "production.plot(kind='bar')\n",
        "\n",
        "# Per verificare\n",
        "# print(np.sum(final_titles['year_added'] == 2020))"
      ],
      "metadata": {
        "id": "X9CQ6SqH5opX",
        "colab": {
          "base_uri": "https://localhost:8080/",
          "height": 568
        },
        "outputId": "e7cb0c5a-14a0-4c44-95ba-97ac5c87697b"
      },
      "execution_count": 39,
      "outputs": [
        {
          "output_type": "execute_result",
          "data": {
            "text/plain": [
              "<Axes: >"
            ]
          },
          "metadata": {},
          "execution_count": 39
        },
        {
          "output_type": "display_data",
          "data": {
            "text/plain": [
              "<Figure size 2000x600 with 1 Axes>"
            ],
            "image/png": "[encoded data removed]"
          },
          "metadata": {}
        }
      ]
    },
    {
      "cell_type": "markdown",
      "source": [
        "Similmente a quanto visto per il grafico degli anni di produzione, anche gli anni di caricamento sono prevalentemente gli anni più recenti, dal 2018 al 2021.\n",
        "Questa ipotesi di somiglianza da luogo a un test statistico che eseguiremo di seguito. "
      ],
      "metadata": {
        "id": "SEiaNA2nBxF5"
      }
    },
    {
      "cell_type": "markdown",
      "source": [
        "<h1> 4. Test statistico </h1>"
      ],
      "metadata": {
        "id": "UCbeqjkZBdQY"
      }
    },
    {
      "cell_type": "markdown",
      "source": [
        "Verifico con un test statistico eventuali differenze nella distribuzione di MOVIE per anno di produzione o per anno di caricamento; piattaforme separate"
      ],
      "metadata": {
        "id": "sgq1Is9hIz65"
      }
    },
    {
      "cell_type": "markdown",
      "source": [
        "Scegliamo un livello di significatività di 0.05 (intervallo di confidenza di 0.95).\n",
        "\n",
        "Ipotesi nulla:\n",
        "\n",
        "H0 = la distribuzione per anno di rilascio e di caricamento non sono statisticamente diverse\n",
        "\n",
        "Ipotesi alternativa:\n",
        "\n",
        "HA = vi è differenza"
      ],
      "metadata": {
        "id": "HNZ59puUqkfk"
      }
    },
    {
      "cell_type": "markdown",
      "source": [
        "Vista la necessità di registrare un'eventuale *differenza* fra le distribuzioni, si applica un t-test.\n",
        "Il test statistico viene effettuato per piattaforma, separando FILM e MOVIE.\n",
        "Solo in seguito procediamo ad effettuare lo stesso test sulla tabella che combina sia le piattaforme sia il tipo di programma.\n",
        "Prima di effettuare il test vengono cancellati i valori nulli rispettivamente alle colonne degli anni di produzione e di caricamento. L'alternativa di porre la media dei non nulli presso tali valori non influenza in modo decisivo il t-test."
      ],
      "metadata": {
        "id": "QecZbWUuCsaY"
      }
    },
    {
      "cell_type": "code",
      "source": [
        "### NETFLIX\n",
        "## FILM\n",
        "# Conto il numero di MOVIE per anno di produzione e anno di caricamento\n",
        "index_film = netflix_titles_combinata['type'] == 'MOVIE'\n",
        "netflix_film = netflix_titles_combinata[index_film]\n",
        "\n",
        "netflix_film = netflix_film.dropna(axis=0, subset=['release_year', 'year_added']) # isolo le righe utili\n",
        "#netflix_film.info()\n",
        "\n",
        "### L'alternativa di porre nei nan la media degli anni di caricamento sulla piattaforma non influenza in modo decisivo il t-test\n",
        "## print(np.mean(netflix_film['year_added']))\n",
        "## netflix_film['year_added'][np.isnan(netflix_film['year_added'])] = np.mean(netflix_film['year_added'])\n",
        "\n",
        "# effettuo un t-test\n",
        "t, p_value = stats.ttest_ind(a = netflix_film['release_year'], b = netflix_film['year_added'])\n",
        "print('MOVIE')\n",
        "print('Valore test: ', t)\n",
        "print('P-value: ', p_value)\n",
        "\n",
        "# Conto il numero di SHOW per anno di produzione e anno di caricamento\n",
        "index_series = netflix_titles_combinata['type'] == 'SHOW'\n",
        "netflix_series = netflix_titles_combinata[index_series]\n",
        "#netflix_series.info()\n",
        "netflix_series = netflix_series.dropna(axis=0, subset=['release_year', 'year_added']) # isolo le righe utili\n",
        "\n",
        "# effettuo un t-test\n",
        "t, p_value = stats.ttest_ind(a = netflix_series['release_year'], b = netflix_series['year_added'])\n",
        "print('SHOW')\n",
        "print('Valore test: ', t)\n",
        "print('P-value: ', p_value)\n"
      ],
      "metadata": {
        "colab": {
          "base_uri": "https://localhost:8080/"
        },
        "id": "wRV8P_dqAJNw",
        "outputId": "cee22829-e404-4b36-9253-277d6ec9786c"
      },
      "execution_count": 40,
      "outputs": [
        {
          "output_type": "stream",
          "name": "stdout",
          "text": [
            "MOVIE\n",
            "Valore test:  -16.625955695815183\n",
            "P-value:  5.211506302305594e-60\n",
            "SHOW\n",
            "Valore test:  -16.32382268740773\n",
            "P-value:  3.82972499025692e-57\n"
          ]
        }
      ]
    },
    {
      "cell_type": "markdown",
      "source": [
        "siccome il p-value << significatività, deduciamo che possiamo rigettare l'ipotesi nulla in favore di quella alternativa: non vi sono differenze statisticamente significative fra le due distribuzioni"
      ],
      "metadata": {
        "id": "ecArBYl0qsV4"
      }
    },
    {
      "cell_type": "markdown",
      "source": [
        "Per quanto riguarda Amazon si osserva una peculiarità: il numero di campioni non nulli per i MOVIE è pari a 6 < 30 richiesti. Dunque il test statistico non è fattibile.\n",
        "<br>\n",
        "D'altra parte gli SHOW rispettano la condizione richiesta ma, come notificato anche da un Warning, i valori sono molto simili (e aggiungerei pochi con pochissima varianza), dunque il t-test porta a una cancellazione catastrofica, con un risultato da considerare non attendibile.\n",
        "<br>\n",
        "A valle di ciò, si ritiene dunque il t-test su Amazon non effettuabile in maniera decisiva, data la poca quantità e poca varianza (quindi 'significato') dei dati."
      ],
      "metadata": {
        "id": "8uVPs8sbDMtY"
      }
    },
    {
      "cell_type": "code",
      "source": [
        "## AMAZON\n",
        "print('Conteggi righe non nulle per feature')\n",
        "print(amazon_titles_combinata[amazon_titles_combinata['type'] == 'MOVIE'].count())\n",
        "# amazon_titles_combinata[amazon_titles_combinata['type'] == 'SHOW'].count()\n",
        "# NON posso effettuare test statistico per FILM: numero campioni con valori non nulli per year_added sono 6 per amazon. \n",
        "# Questo è dato all'origine dall'insieme piccolo di righe non nulle in amazon_titles_2 come puntualizzato nel capitolo \"Integrazione\".\n",
        "\n",
        "# Conto il numero di SHOW per anno di produzione e anno di caricamento\n",
        "index_series = amazon_titles_combinata['type'] == 'SHOW'\n",
        "amazon_series = amazon_titles_combinata[index_series]\n",
        "\n",
        "amazon_series = amazon_series.dropna(axis=0, subset=['release_year', 'year_added']) # isolo le righe utili\n",
        "\n",
        "# effettuo un t-test\n",
        "t, p_value = stats.ttest_ind(a = amazon_series['release_year'], b = amazon_series['year_added'])\n",
        "print()\n",
        "print('Tentativo con SHOW')\n",
        "print('Valore test: ', t)\n",
        "print('P-value: ', p_value)"
      ],
      "metadata": {
        "id": "_fOjx7_dp-Ud",
        "colab": {
          "base_uri": "https://localhost:8080/"
        },
        "outputId": "a67bbc60-a29f-4181-ba6c-1109e53de1e8"
      },
      "execution_count": 56,
      "outputs": [
        {
          "output_type": "stream",
          "name": "stdout",
          "text": [
            "Conteggi righe non nulle per feature\n",
            "id                      7115\n",
            "title                   7115\n",
            "type                    7115\n",
            "release_year            7115\n",
            "age_certification       7115\n",
            "runtime                 7115\n",
            "genres                  7115\n",
            "production_countries    7115\n",
            "imdb_score              7115\n",
            "tmdb_popularity         7115\n",
            "tmdb_score              7115\n",
            "month_added                6\n",
            "year_added                 6\n",
            "dtype: int64\n",
            "\n",
            "Tentativo con SHOW\n",
            "Valore test:  -5.678064564234941\n",
            "P-value:  1.9028831007722302e-07\n"
          ]
        },
        {
          "output_type": "stream",
          "name": "stderr",
          "text": [
            "<ipython-input-56-9d0ac08e310c>:15: RuntimeWarning: Precision loss occurred in moment calculation due to catastrophic cancellation. This occurs when the data are nearly identical. Results may be unreliable.\n",
            "  t, p_value = stats.ttest_ind(a = amazon_series['release_year'], b = amazon_series['year_added'])\n"
          ]
        }
      ]
    },
    {
      "cell_type": "code",
      "source": [
        "### Test su intero insieme di dati (Amazon + Netflix, Show + Film)\n",
        "\n",
        "final_titles_test = final_titles.dropna(axis=0, subset=['release_year', 'year_added']) # isolo le righe utili\n",
        "#final_titles_test.info()\n",
        "\n",
        "# effettuo un t-test\n",
        "t, p_value = stats.ttest_ind(a = final_titles_test['release_year'], b = final_titles_test['year_added'])\n",
        "print('Valore test: ', t)\n",
        "print('P-value: ', p_value)\n",
        "\n",
        "# Nuovamente rigettiamo ipotesi nulla a favore di quella alternativa"
      ],
      "metadata": {
        "colab": {
          "base_uri": "https://localhost:8080/"
        },
        "id": "pXjWfurqpagT",
        "outputId": "99c23151-7da3-41fa-fcb4-574340c32b10"
      },
      "execution_count": 42,
      "outputs": [
        {
          "output_type": "stream",
          "name": "stdout",
          "text": [
            "Valore test:  -22.634540750481538\n",
            "P-value:  2.59329941535655e-109\n"
          ]
        }
      ]
    },
    {
      "cell_type": "markdown",
      "source": [
        "Mi accorgo dunque che la supposizione della somiglianza delle distribuzioni non determina un'effettiva uguaglianza statistica, bensì il contrario."
      ],
      "metadata": {
        "id": "2PGRfJzA4LYF"
      }
    },
    {
      "cell_type": "markdown",
      "source": [
        "<h1>5. OLAP </h2>"
      ],
      "metadata": {
        "id": "u_dI3tzHJ14r"
      }
    },
    {
      "cell_type": "markdown",
      "source": [
        "L'OLAP richiesto prende in considerazione i paesi di produzione. Poichè la quantità è notevole, si sceglie di considerare solo i primi 11 più frequenti, ovvero che hanno prodotto più programmi. Per osservarli si grafica un istogramma ordinato.\n",
        "<br>\n",
        "Considero invece tutti gli anni di caricamento, in quanto di numero ridotto e pari a 11 anch'esso."
      ],
      "metadata": {
        "id": "76EcmZBXFa7v"
      }
    },
    {
      "cell_type": "code",
      "source": [
        "# Plot frequenze\n",
        "production = final_titles['production_countries'].value_counts(sort=True).take(indices=[0,1,2,3,4,5,6,7,8,9,10])\n",
        "fig = plt.figure(figsize=(20,6))\n",
        "production.plot(kind='bar')"
      ],
      "metadata": {
        "id": "ZMNcpgF-nikq",
        "colab": {
          "base_uri": "https://localhost:8080/",
          "height": 557
        },
        "outputId": "d7c30d09-5d27-4da8-8655-8c4831eaf0a4"
      },
      "execution_count": 43,
      "outputs": [
        {
          "output_type": "execute_result",
          "data": {
            "text/plain": [
              "<Axes: >"
            ]
          },
          "metadata": {},
          "execution_count": 43
        },
        {
          "output_type": "display_data",
          "data": {
            "text/plain": [
              "<Figure size 2000x600 with 1 Axes>"
            ],
            "image/png": "[encoded data removed]"
          },
          "metadata": {}
        }
      ]
    },
    {
      "cell_type": "code",
      "source": [
        "quantize_country = [\"['US']\", \"['IN']\", \"['GB']\", \"['JP']\", \"['CA']\", \"['KR']\", \"['ES']\", \"['FR']\", \"['AU']\", \"['MX']\", \"['IT']\"] # seleziono i primi 11 stati più frequenti\n",
        "quantize_year_added = [2009, 2011, 2013, 2014, 2015, 2016, 2017, 2018, 2019, 2020, 2021] # qui inserisco tutti gli 11 anni di caricamento\n",
        "quantize_type = ['MOVIE','SHOW']\n",
        "\n",
        "OLAP = np.zeros((11,11,2))\n",
        "\n",
        "for z in range(0,len(quantize_type)): \n",
        "  titles_type = final_titles[final_titles['type'] == quantize_type[z]]\n",
        "  for j in range(0,len(quantize_year_added)):\n",
        "    for i in range(0,len(quantize_country)):\n",
        "      OLAP[i,j,z] = np.sum((final_titles['year_added'] == quantize_year_added[j]) & (quantize_country[i] == final_titles['production_countries'])) # ignoro le righe con stati multipli"
      ],
      "metadata": {
        "id": "yIM4Uqi6J385"
      },
      "execution_count": 44,
      "outputs": []
    },
    {
      "cell_type": "code",
      "source": [
        "# Discuto una visualizzazione\n",
        "# Slicing per MOVIE\n",
        "print('MOVIE')\n",
        "OLAP[:,:,0]"
      ],
      "metadata": {
        "id": "MsrQeeT9TbgL",
        "colab": {
          "base_uri": "https://localhost:8080/"
        },
        "outputId": "4a40b045-c5f9-4e4d-abe9-6c5c92138971"
      },
      "execution_count": 45,
      "outputs": [
        {
          "output_type": "stream",
          "name": "stdout",
          "text": [
            "MOVIE\n"
          ]
        },
        {
          "output_type": "execute_result",
          "data": {
            "text/plain": [
              "array([[  0.,   7.,   3.,   9.,  24.,  59., 131., 175., 233., 301., 265.],\n",
              "       [  0.,   0.,   0.,   0.,   0.,   2.,  35.,  67.,  75., 107.,  62.],\n",
              "       [  0.,   0.,   0.,   0.,   0.,   6.,  11.,  25.,  29.,  34.,  33.],\n",
              "       [  0.,   0.,   0.,   0.,   1.,   4.,  13.,  13.,  22.,  32.,  44.],\n",
              "       [  0.,   0.,   0.,   0.,   0.,   3.,   7.,  11.,   5.,  16.,  26.],\n",
              "       [  0.,   0.,   0.,   0.,   0.,   1.,   8.,  15.,  27.,  38.,  39.],\n",
              "       [  0.,   0.,   0.,   0.,   0.,   1.,   6.,  23.,  27.,  17.,  31.],\n",
              "       [  0.,   0.,   0.,   0.,   0.,   2.,   2.,  10.,  22.,  18.,  17.],\n",
              "       [  0.,   0.,   0.,   0.,   0.,   2.,   3.,  10.,   8.,  11.,   4.],\n",
              "       [  0.,   0.,   0.,   0.,   1.,   1.,   5.,   3.,  14.,  13.,  15.],\n",
              "       [  0.,   0.,   0.,   0.,   0.,   0.,   2.,   3.,   4.,  11.,   9.]])"
            ]
          },
          "metadata": {},
          "execution_count": 45
        }
      ]
    },
    {
      "cell_type": "code",
      "source": [
        "# Visualizzo con heatmap\n",
        "plt.figure()\n",
        "plt.imshow(OLAP[:,:,0])\n",
        "plt.title('SLICING PER MOVIE')\n",
        "plt.xlabel('MOVIE AGE')\n",
        "plt.ylabel('COUNTRY')\n",
        "plt.colorbar()\n",
        "\n",
        "# Osservo che i film recenti sono stati effettuati maggiormente dagli Stati Uniti nel 2020 (già di per sé anno con maggior numero di film caricato)"
      ],
      "metadata": {
        "id": "Ld8VAiW7Tn71",
        "colab": {
          "base_uri": "https://localhost:8080/",
          "height": 490
        },
        "outputId": "eab6923b-a549-4c83-dc70-bf0d77eaf67e"
      },
      "execution_count": 46,
      "outputs": [
        {
          "output_type": "execute_result",
          "data": {
            "text/plain": [
              "<matplotlib.colorbar.Colorbar at 0x7f6aea6134c0>"
            ]
          },
          "metadata": {},
          "execution_count": 46
        },
        {
          "output_type": "display_data",
          "data": {
            "text/plain": [
              "<Figure size 640x480 with 2 Axes>"
            ],
            "image/png": "[encoded data removed]"
          },
          "metadata": {}
        }
      ]
    },
    {
      "cell_type": "markdown",
      "source": [
        "Da tale heat-map è possibile notare come la nazione all'indice zero, che corrisponde alla nazione di produzione più frequente, ha prodotto il maggior numero di film corrispondenti ai MOVIE caricati sulla piattaforma nell'anno di indice 9.\n",
        "<br>\n",
        "Tutto questo si traduce negli Stati Uniti che hanno prodotto la maggior parte di film caricati sulla piattaforma nell'anno 2020. Tale risultato verifica quanto visto precedentemente negli ultimi due istogrammi: nel primo si osservava l'anno di caricamento maggiore: il 2020; nel secondo la nazione più frequente: gli Stati Uniti. \n",
        "<br>\n",
        "Infine si può notare che la maggior parte delle nazioni, eccetto gli Stati Uniti, non ha prodotto alcun film (presente sulla piattaforma) negli anni dal 2009 al 2015."
      ],
      "metadata": {
        "id": "dKTEkAMVFxgH"
      }
    },
    {
      "cell_type": "markdown",
      "source": [
        "<h1> 6. Metodi predittivi </h1>"
      ],
      "metadata": {
        "id": "SLDOPZ8NaOUN"
      }
    },
    {
      "cell_type": "markdown",
      "source": [
        "Prima di applicare il metodo predittivo della regressione logistica, controllo di non avere valori nulli nei descrittori: features = ['imdb_score', 'tmdb_score', 'tmdb_popularity', 'runtime']."
      ],
      "metadata": {
        "id": "gnosdbxIG7-Y"
      }
    },
    {
      "cell_type": "code",
      "source": [
        "# Controllo di non avere valori nulli nei descrittori: features = ['imdb_score', 'tmdb_score', 'tmdb_popularity', 'runtime']\n",
        "print('NETFLIX')\n",
        "netflix_titles_combinata.info()\n",
        "print()\n",
        "print()\n",
        "print('AMAZON')\n",
        "amazon_titles_combinata.info()"
      ],
      "metadata": {
        "id": "7qA1WCrehSFX",
        "colab": {
          "base_uri": "https://localhost:8080/"
        },
        "outputId": "9f9f1e33-1799-477d-e39d-c09028fafcf4"
      },
      "execution_count": 53,
      "outputs": [
        {
          "output_type": "stream",
          "name": "stdout",
          "text": [
            "NETFLIX\n",
            "<class 'pandas.core.frame.DataFrame'>\n",
            "Int64Index: 5393 entries, 1 to 5994\n",
            "Data columns (total 13 columns):\n",
            " #   Column                Non-Null Count  Dtype  \n",
            "---  ------                --------------  -----  \n",
            " 0   id                    5393 non-null   object \n",
            " 1   title                 5393 non-null   object \n",
            " 2   type                  5393 non-null   object \n",
            " 3   release_year          5393 non-null   int64  \n",
            " 4   age_certification     5393 non-null   object \n",
            " 5   runtime               5393 non-null   int64  \n",
            " 6   genres                5393 non-null   object \n",
            " 7   production_countries  5393 non-null   object \n",
            " 8   imdb_score            5393 non-null   float64\n",
            " 9   tmdb_popularity       5393 non-null   float64\n",
            " 10  tmdb_score            5393 non-null   float64\n",
            " 11  month_added           3257 non-null   float64\n",
            " 12  year_added            3257 non-null   float64\n",
            "dtypes: float64(5), int64(2), object(6)\n",
            "memory usage: 589.9+ KB\n",
            "\n",
            "\n",
            "AMAZON\n",
            "<class 'pandas.core.frame.DataFrame'>\n",
            "Int64Index: 8210 entries, 0 to 10701\n",
            "Data columns (total 13 columns):\n",
            " #   Column                Non-Null Count  Dtype  \n",
            "---  ------                --------------  -----  \n",
            " 0   id                    8210 non-null   object \n",
            " 1   title                 8210 non-null   object \n",
            " 2   type                  8210 non-null   object \n",
            " 3   release_year          8210 non-null   int64  \n",
            " 4   age_certification     8210 non-null   object \n",
            " 5   runtime               8210 non-null   int64  \n",
            " 6   genres                8210 non-null   object \n",
            " 7   production_countries  8210 non-null   object \n",
            " 8   imdb_score            8210 non-null   float64\n",
            " 9   tmdb_popularity       8210 non-null   float64\n",
            " 10  tmdb_score            8210 non-null   float64\n",
            " 11  month_added           49 non-null     float64\n",
            " 12  year_added            49 non-null     float64\n",
            "dtypes: float64(5), int64(2), object(6)\n",
            "memory usage: 898.0+ KB\n"
          ]
        }
      ]
    },
    {
      "cell_type": "markdown",
      "source": [
        "Effettuo il training del mio modello con i dati presi da Netflix"
      ],
      "metadata": {
        "id": "SvFaBJTpHNBo"
      }
    },
    {
      "cell_type": "code",
      "source": [
        "# Training con Netflix\n",
        "features = ['imdb_score', 'tmdb_score', 'tmdb_popularity', 'runtime']\n",
        "# netflix_titles_combinata = netflix_titles_combinata.dropna(axis=0, subset=['imdb_score', 'tmdb_score', 'tmdb_popularity', 'runtime']) # questo perchè ho modificato/aggiunto genres_number e production_country\n",
        "\n",
        "x = netflix_titles_combinata[features]\n",
        "y = netflix_titles_combinata['type'] # valore di ritorno del modello di predizione\n",
        "\n",
        "x_train, x_valid, y_train, y_valid = sklearn.model_selection.train_test_split(x, y, test_size=0.2, random_state=1)\n",
        "\n",
        "clf = LogisticRegression()\n",
        "\n",
        "clf.fit(x_train, y_train) # alleno sui dati di training\n",
        "\n",
        "print('Training:', clf.score(x_train, y_train))\n",
        "print('Validation:', clf.score(x_valid, y_valid))"
      ],
      "metadata": {
        "id": "NBvlpJolaRdU",
        "colab": {
          "base_uri": "https://localhost:8080/"
        },
        "outputId": "cd101f15-2ab1-4b65-c261-d257b239ad6b"
      },
      "execution_count": 48,
      "outputs": [
        {
          "output_type": "stream",
          "name": "stdout",
          "text": [
            "Training: 0.9367176634214186\n",
            "Validation: 0.9462465245597775\n"
          ]
        }
      ]
    },
    {
      "cell_type": "markdown",
      "source": [
        "Effettuo il testing con i dati presi da Amazon"
      ],
      "metadata": {
        "id": "FXAQxFZ3Hd54"
      }
    },
    {
      "cell_type": "code",
      "source": [
        "# Testing con Amazon\n",
        "features = ['imdb_score', 'tmdb_score', 'tmdb_popularity', 'runtime']\n",
        "x = amazon_titles_combinata[features]\n",
        "y = amazon_titles_combinata['type']\n",
        "\n",
        "print('Testing:', clf.score(x, y))"
      ],
      "metadata": {
        "id": "6r1t_PLojfqm",
        "colab": {
          "base_uri": "https://localhost:8080/"
        },
        "outputId": "3e06add9-a716-4a4d-a756-d9df6dddb776"
      },
      "execution_count": 49,
      "outputs": [
        {
          "output_type": "stream",
          "name": "stdout",
          "text": [
            "Testing: 0.9671132764920828\n"
          ]
        }
      ]
    },
    {
      "cell_type": "markdown",
      "source": [
        "Creo ora il modello nullo. Per farlo osservo quale classe è prevalente nei miei dati. Dopo aver osservato che tale classe è MOVIE, calcolo la probabilità (percentuale) di ritrovare un MOVIE nell'insieme dei dati di testing (Amazon)."
      ],
      "metadata": {
        "id": "WtiYCrZOHy_C"
      }
    },
    {
      "cell_type": "code",
      "source": [
        "# Il modello nullo ritorna sempre la classe più comune\n",
        "print(np.sum(amazon_titles_combinata['type'] == 'MOVIE')) # più comune\n",
        "print(np.sum(amazon_titles_combinata['type'] == 'SHOW'))\n",
        "print(np.sum(amazon_titles_combinata['type'] == 'MOVIE')/len(amazon_titles_combinata))"
      ],
      "metadata": {
        "id": "Hn2lQ90dfuE_",
        "colab": {
          "base_uri": "https://localhost:8080/"
        },
        "outputId": "b1e300d0-b6bc-4151-be22-449ec90bb639"
      },
      "execution_count": 50,
      "outputs": [
        {
          "output_type": "stream",
          "name": "stdout",
          "text": [
            "7115\n",
            "1095\n",
            "0.866626065773447\n"
          ]
        }
      ]
    },
    {
      "cell_type": "markdown",
      "source": [
        "Osservo che il modello nullo ha accuratezza pari al 87% mentre il modello utilizzato raggiunge il 97%, è dunque un modello applicabile ed efficace."
      ],
      "metadata": {
        "id": "f_HcHCiZkKoT"
      }
    }
  ]
}